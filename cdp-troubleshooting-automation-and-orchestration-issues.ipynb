{
 "cells": [
  {
   "cell_type": "markdown",
   "id": "d4ee9e4b",
   "metadata": {},
   "source": [
    "***\n",
    "< [Home](https://github.com/SeanOhAileasa) | [README](https://github.com/SeanOhAileasa/cdp-troubleshooting-automation-and-orchestration-issues/blob/main/README.md) >\n",
    "\n",
    "## CompTIA Cloud+ - Course Material 2022\n",
    "###### Topic: ``Troubleshooting Automation and Orchestration Issues``\n",
    "***"
   ]
  },
  {
   "cell_type": "markdown",
   "id": "e7228f57",
   "metadata": {},
   "source": [
    "<a id=\"top\"></a>\n",
    "***\n",
    "## Table of Contents\n",
    "***"
   ]
  },
  {
   "cell_type": "markdown",
   "id": "c2bb5e7b",
   "metadata": {},
   "source": [
    "### [Troubleshooting Automation and Orchestration Issues](#aa) <br/><br/>\n",
    "<hr width=50%;>"
   ]
  },
  {
   "cell_type": "markdown",
   "id": "e1c6d152",
   "metadata": {},
   "source": [
    "### [User Accounts and Service Accounts](#A) <br/><br/>\n",
    "<hr width=50%;>"
   ]
  },
  {
   "cell_type": "markdown",
   "id": "ce56872d",
   "metadata": {},
   "source": [
    "### [Change Management Process Issues](#B) <br/><br/>\n",
    "<hr width=50%;>"
   ]
  },
  {
   "cell_type": "markdown",
   "id": "79c8fa24",
   "metadata": {},
   "source": [
    "### [DNS and Server Name Change Issues](#C) <br/><br/>\n",
    "<hr width=50%;>"
   ]
  },
  {
   "cell_type": "markdown",
   "id": "1aff08b2",
   "metadata": {},
   "source": [
    "### [IP Address Scheme Change Issues](#D) <br/><br/>\n",
    "<hr width=50%;>"
   ]
  },
  {
   "cell_type": "markdown",
   "id": "b15a4dd6",
   "metadata": {},
   "source": [
    "### [Location Change Automation Issues](#E) <br/><br/>\n",
    "<hr width=50%;>"
   ]
  },
  {
   "cell_type": "markdown",
   "id": "f47ad269",
   "metadata": {},
   "source": [
    "### [Versioning Mismatch Automation Issues](#F) <br/><br/>\n",
    "<hr width=50%;>"
   ]
  },
  {
   "cell_type": "markdown",
   "id": "164eca57",
   "metadata": {},
   "source": [
    "### [Automation Tool Compatibility Problems](#G) <br/><br/>\n",
    "<hr width=50%;>"
   ]
  },
  {
   "cell_type": "markdown",
   "id": "cc55a596",
   "metadata": {},
   "source": [
    "### [Job Validation](#H) <br/><br/>\n",
    "<hr width=50%;>"
   ]
  },
  {
   "cell_type": "markdown",
   "id": "6d69da9b",
   "metadata": {},
   "source": [
    "### [Patch Management](#I) <br/><br/>\n",
    "<hr width=50%;>"
   ]
  },
  {
   "cell_type": "markdown",
   "id": "acec5626",
   "metadata": {},
   "source": [
    "### [Creating an Automation Account in the Cloud](#J) <br/><br/>\n",
    "<hr width=50%;>"
   ]
  },
  {
   "cell_type": "markdown",
   "id": "fa3fd787",
   "metadata": {},
   "source": [
    "### [Course Summary](#K) <br/><br/>\n",
    "<hr width=50%;>"
   ]
  },
  {
   "cell_type": "markdown",
   "id": "bf2b95e2",
   "metadata": {},
   "source": [
    "***\n",
    "## END"
   ]
  },
  {
   "cell_type": "markdown",
   "id": "34aa6eb5",
   "metadata": {},
   "source": [
    "< [Table of Contents](#top) | [References](#references) >\n",
    "<a id=\"aa\"></a>\n",
    "***\n",
    "### Troubleshooting Automation and Orchestration Issues\n",
    "***"
   ]
  },
  {
   "cell_type": "markdown",
   "id": "173e78b5",
   "metadata": {},
   "source": []
  },
  {
   "cell_type": "markdown",
   "id": "b5eded51",
   "metadata": {},
   "source": [
    "< [Table of Contents](#top) | [References](#references) >\n",
    "<a id=\"A\"></a>\n",
    "***\n",
    "### User Accounts and Service Accounts\n",
    "*** "
   ]
  },
  {
   "cell_type": "markdown",
   "id": "3cb83aa3",
   "metadata": {},
   "source": []
  },
  {
   "cell_type": "markdown",
   "id": "3729a449",
   "metadata": {},
   "source": [
    "< [Table of Contents](#top) | [References](#references) >\n",
    "<a id=\"B\"></a>\n",
    "***\n",
    "### Change Management Process Issues\n",
    "*** "
   ]
  },
  {
   "cell_type": "markdown",
   "id": "8193d88a",
   "metadata": {},
   "source": []
  },
  {
   "cell_type": "markdown",
   "id": "cae0b19e",
   "metadata": {},
   "source": [
    "< [Table of Contents](#top) | [References](#references) >\n",
    "<a id=\"C\"></a>\n",
    "***\n",
    "### DNS and Server Name Change Issues\n",
    "*** "
   ]
  },
  {
   "cell_type": "markdown",
   "id": "347998c8",
   "metadata": {},
   "source": []
  },
  {
   "cell_type": "markdown",
   "id": "a03f8c25",
   "metadata": {},
   "source": [
    "< [Table of Contents](#top) | [References](#references) >\n",
    "<a id=\"D\"></a>\n",
    "***\n",
    "### IP Address Scheme Change Issues\n",
    "*** "
   ]
  },
  {
   "cell_type": "markdown",
   "id": "06ba7e63",
   "metadata": {},
   "source": []
  },
  {
   "cell_type": "markdown",
   "id": "85ea738b",
   "metadata": {},
   "source": [
    "< [Table of Contents](#top) | [References](#references) >\n",
    "<a id=\"E\"></a>\n",
    "***\n",
    "### Location Change Automation Issues\n",
    "*** "
   ]
  },
  {
   "cell_type": "markdown",
   "id": "1fa27186",
   "metadata": {},
   "source": []
  },
  {
   "cell_type": "markdown",
   "id": "b78421ca",
   "metadata": {},
   "source": [
    "< [Table of Contents](#top) | [References](#references) >\n",
    "<a id=\"F\"></a>\n",
    "***\n",
    "### Versioning Mismatch Automation Issues\n",
    "*** "
   ]
  },
  {
   "cell_type": "markdown",
   "id": "ecf870da",
   "metadata": {},
   "source": []
  },
  {
   "cell_type": "markdown",
   "id": "31b607f5",
   "metadata": {},
   "source": [
    "< [Table of Contents](#top) | [References](#references) >\n",
    "<a id=\"G\"></a>\n",
    "***\n",
    "### Automation Tool Compatibility Problems\n",
    "*** "
   ]
  },
  {
   "cell_type": "markdown",
   "id": "fcaea2b8",
   "metadata": {},
   "source": []
  },
  {
   "cell_type": "markdown",
   "id": "6ccc17e7",
   "metadata": {},
   "source": [
    "< [Table of Contents](#top) | [References](#references) >\n",
    "<a id=\"H\"></a>\n",
    "***\n",
    "### Job Validation\n",
    "*** "
   ]
  },
  {
   "cell_type": "markdown",
   "id": "c8bc3b4e",
   "metadata": {},
   "source": []
  },
  {
   "cell_type": "markdown",
   "id": "9adffcc6",
   "metadata": {},
   "source": [
    "< [Table of Contents](#top) | [References](#references) >\n",
    "<a id=\"I\"></a>\n",
    "***\n",
    "### Patch Management\n",
    "*** "
   ]
  },
  {
   "cell_type": "markdown",
   "id": "9e8aa943",
   "metadata": {},
   "source": []
  },
  {
   "cell_type": "markdown",
   "id": "4a6c2ff9",
   "metadata": {},
   "source": [
    "< [Table of Contents](#top) | [References](#references) >\n",
    "<a id=\"J\"></a>\n",
    "***\n",
    "### Creating an Automation Account in the Cloud\n",
    "*** "
   ]
  },
  {
   "cell_type": "markdown",
   "id": "337ce7f0",
   "metadata": {},
   "source": []
  },
  {
   "cell_type": "markdown",
   "id": "a353f211",
   "metadata": {},
   "source": [
    "< [Table of Contents](#top) | [References](#references) >\n",
    "<a id=\"K\"></a>\n",
    "***\n",
    "### Course Summary\n",
    "*** "
   ]
  },
  {
   "cell_type": "markdown",
   "id": "46180665",
   "metadata": {},
   "source": []
  },
  {
   "cell_type": "markdown",
   "id": "2cc20932",
   "metadata": {},
   "source": [
    "***\n",
    "## END"
   ]
  },
  {
   "cell_type": "markdown",
   "id": "e0e42d51",
   "metadata": {},
   "source": [
    "< [Table of Contents](#top) >\n",
    "<a id=\"references\"></a>\n",
    "***\n",
    "## References\n",
    "***"
   ]
  },
  {
   "cell_type": "markdown",
   "id": "757bf6de",
   "metadata": {},
   "source": [
    "&nbsp;&nbsp;&nbsp;&nbsp;&nbsp;&nbsp;&nbsp;&nbsp;&nbsp;skillsoft, \"Troubleshooting Automation and Orchestration Issues,\" [skillsoft.com](https://web.archive.org/web/20220403100053/https://www.skillsoft.com/), n.d.."
   ]
  },
  {
   "cell_type": "markdown",
   "id": "b33c372a",
   "metadata": {},
   "source": [
    "***\n",
    "## END"
   ]
  },
  {
   "cell_type": "markdown",
   "id": "e5961b4d",
   "metadata": {},
   "source": [
    "< [Table of Contents](#top) | [References](#references) >\n",
    "<a id=\"appendix\"></a>\n",
    "***\n",
    "## Appendix\n",
    "***"
   ]
  },
  {
   "cell_type": "markdown",
   "id": "00d82a82",
   "metadata": {},
   "source": [
    "***\n",
    "## END"
   ]
  },
  {
   "cell_type": "code",
   "execution_count": 1,
   "id": "706756a2",
   "metadata": {},
   "outputs": [
    {
     "name": "stderr",
     "output_type": "stream",
     "text": [
      "C:\\Users\\SeanOhAileasa\\AppData\\Local\\Temp\\ipykernel_15120\\1322614208.py:1: DeprecationWarning: Importing display from IPython.core.display is deprecated since IPython 7.14, please import from IPython display\n",
      "  from IPython.core.display import display,HTML\n"
     ]
    },
    {
     "data": {
      "text/html": [
       "<style>.container { width:100% !important; }</style>"
      ],
      "text/plain": [
       "<IPython.core.display.HTML object>"
      ]
     },
     "metadata": {},
     "output_type": "display_data"
    }
   ],
   "source": [
    "from IPython.core.display import display,HTML\n",
    "display(HTML(\"<style>.container { width:100% !important; }</style>\"))"
   ]
  },
  {
   "cell_type": "markdown",
   "id": "899c1783",
   "metadata": {},
   "source": [
    "# END JUPYTER NOTEBOOK"
   ]
  }
 ],
 "metadata": {
  "kernelspec": {
   "display_name": "Python 3 (ipykernel)",
   "language": "python",
   "name": "python3"
  },
  "language_info": {
   "codemirror_mode": {
    "name": "ipython",
    "version": 3
   },
   "file_extension": ".py",
   "mimetype": "text/x-python",
   "name": "python",
   "nbconvert_exporter": "python",
   "pygments_lexer": "ipython3",
   "version": "3.9.12"
  }
 },
 "nbformat": 4,
 "nbformat_minor": 5
}
